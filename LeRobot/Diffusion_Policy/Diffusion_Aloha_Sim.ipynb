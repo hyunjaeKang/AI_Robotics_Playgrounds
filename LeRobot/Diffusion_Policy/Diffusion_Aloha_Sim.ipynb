{
 "cells": [
  {
   "cell_type": "markdown",
   "id": "bfcfbea8",
   "metadata": {},
   "source": [
    "# Diffusion Policy with Lerobot\n",
    "\n",
    "---\n",
    "\n",
    "- Conda env : [lerobot](../README.md#setup-a-conda-environment)\n",
    "\n",
    "----\n",
    "\n",
    "- Ref: \n",
    "    - ..."
   ]
  },
  {
   "cell_type": "markdown",
   "id": "402ff151",
   "metadata": {},
   "source": [
    "## Device Setup"
   ]
  },
  {
   "cell_type": "code",
   "execution_count": null,
   "id": "312335f0",
   "metadata": {},
   "outputs": [],
   "source": [
    "import torch\n",
    "\n",
    "if torch.backends.mps.is_available():\n",
    "    device = \"mps\"\n",
    "elif torch.cuda.is_available():\n",
    "    device = \"cuda\"\n",
    "else:\n",
    "    device = \"cpu\"\n",
    "\n",
    "print(f\"Available device : {device}\")"
   ]
  },
  {
   "cell_type": "markdown",
   "id": "7356e332",
   "metadata": {},
   "source": [
    "##  Train the diffusion policy for pushT environment"
   ]
  },
  {
   "cell_type": "code",
   "execution_count": null,
   "id": "f14f2319",
   "metadata": {},
   "outputs": [],
   "source": [
    "!python -m lerobot.scripts.train --output_dir=./temp/outputs/train/aloha_sim_transfer_cube_human \\\n",
    "    --policy.type=diffusion \\\n",
    "    --dataset.repo_id=lerobot/aloha_sim_transfer_cube_human \\\n",
    "    --seed=100000 \\\n",
    "    --env.type=aloha \\\n",
    "    --batch_size=64 \\\n",
    "    --steps=200000 \\\n",
    "    --eval_freq=25 \\\n",
    "    --save_freq=25000 \\\n",
    "    --policy.device=$device \\\n",
    "    --policy.push_to_hub=false \\\n",
    "    --wandb.enable=false"
   ]
  },
  {
   "cell_type": "code",
   "execution_count": null,
   "id": "c8082318",
   "metadata": {},
   "outputs": [],
   "source": [
    "# !python -m lerobot.scripts.train \\\n",
    "#     --policy.type=act \\\n",
    "#     --dataset.repo_id=lerobot/aloha_sim_transfer_cube_human \\\n",
    "#     --env.type=aloha \\\n",
    "#     --env.task=AlohaTransferCube-v0 \\\n",
    "#     --batch_size=16  \\\n",
    "#     --steps=20000 \\\n",
    "#     --save_freq=500 \\\n",
    "#     --eval_freq=500 \\\n",
    "#     --policy.device=$device \\\n",
    "#     --wandb.enable=false \\\n",
    "#     --output_dir=$output_dir \\\n",
    "#     --policy.push_to_hub=false"
   ]
  },
  {
   "cell_type": "markdown",
   "id": "ad7b5b17",
   "metadata": {},
   "source": [
    "### Resume the training\n"
   ]
  },
  {
   "cell_type": "code",
   "execution_count": null,
   "id": "379acbab",
   "metadata": {},
   "outputs": [],
   "source": [
    "!python -m lerobot.scripts.train \\\n",
    "    --config_path=./temp/outputs/train/diffusion_pusht_small/checkpoints/last/pretrained_model/train_config.json \\\n",
    "    --resume=true\n"
   ]
  },
  {
   "cell_type": "markdown",
   "id": "f2b60fe1",
   "metadata": {},
   "source": [
    "## Video evaluation of the training sequence"
   ]
  },
  {
   "cell_type": "code",
   "execution_count": null,
   "id": "311d63e1",
   "metadata": {},
   "outputs": [],
   "source": [
    "from IPython.display import HTML, display\n",
    "\n",
    "def display_video_grid(videos, cols=2, ratio = 100):\n",
    "    \"\"\"\n",
    "    Display videos in a grid with titles.\n",
    "\n",
    "    Args:\n",
    "        videos (list of tuples): [(filepath, title), ...]\n",
    "        cols (int): number of videos per row\n",
    "    \"\"\"\n",
    "    # CSS for grid\n",
    "    style = f\"\"\"\n",
    "    <style>\n",
    "    .video-grid {{\n",
    "      display: grid;\n",
    "      grid-template-columns: repeat({cols}, 1fr);\n",
    "      gap: 20px;\n",
    "      margin-top: 20px;\n",
    "    }}\n",
    "    .video-item {{\n",
    "      text-align: center;\n",
    "    }}\n",
    "    .video-item video {{\n",
    "      width: {ratio}%;\n",
    "      border-radius: 10px;\n",
    "      box-shadow: 0 4px 10px rgba(0,0,0,0.2);\n",
    "    }}\n",
    "    .video-title {{\n",
    "      margin-top: 8px;\n",
    "      font-weight: bold;\n",
    "      font-family: sans-serif;\n",
    "    }}\n",
    "    </style>\n",
    "    \"\"\"\n",
    "\n",
    "    # Build video HTML\n",
    "    items = \"\"\n",
    "    for path, title in videos:\n",
    "        items += f\"\"\"\n",
    "        <div class=\"video-item\">\n",
    "            <video controls>\n",
    "                <source src=\"{path}\" type=\"video/mp4\">\n",
    "            </video>\n",
    "            <div class=\"video-title\">{title}</div>\n",
    "        </div>\n",
    "        \"\"\"\n",
    "\n",
    "    html = style + f'<div class=\"video-grid\">{items}</div>'\n",
    "    display(HTML(html))\n",
    "\n"
   ]
  },
  {
   "cell_type": "code",
   "execution_count": null,
   "id": "a5e71789",
   "metadata": {},
   "outputs": [],
   "source": [
    "steps = [\"step_000025\", \"step_002500\", \"step_025000\", \"step_050000\", \"step_100000\", \"step_200000\"]\n",
    "episodes = [\"episode_0\", \"episode_1\", \"episode_2\", \"episode_3\"]\n",
    "\n",
    "video_list = []\n",
    "for episode in episodes:\n",
    "    for step in steps:\n",
    "        v_fp = f\"./output/train_videos_pusht/videos_{step}/eval_{episode}.mp4\"\n",
    "        v_title = f\"{step}_{episode}\"\n",
    "        video_list.append((v_fp, v_title))\n",
    "\n",
    "print(video_list)\n",
    "\n",
    "display_video_grid(video_list, cols=len(steps))"
   ]
  }
 ],
 "metadata": {
  "kernelspec": {
   "display_name": "lerobot",
   "language": "python",
   "name": "python3"
  },
  "language_info": {
   "codemirror_mode": {
    "name": "ipython",
    "version": 3
   },
   "file_extension": ".py",
   "mimetype": "text/x-python",
   "name": "python",
   "nbconvert_exporter": "python",
   "pygments_lexer": "ipython3",
   "version": "3.10.18"
  }
 },
 "nbformat": 4,
 "nbformat_minor": 5
}
