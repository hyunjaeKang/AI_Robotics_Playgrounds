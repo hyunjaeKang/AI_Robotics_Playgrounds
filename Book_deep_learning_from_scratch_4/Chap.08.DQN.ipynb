{
 "cells": [
  {
   "cell_type": "markdown",
   "id": "2721d6b9",
   "metadata": {},
   "source": [
    "\n",
    "## Chap 08. DQN\n",
    "\n",
    "---- \n",
    "\n",
    "- conda env : [ai_robotics](../README.md#setup-a-conda-environment)\n",
    "\n",
    "---\n"
   ]
  },
  {
   "cell_type": "markdown",
   "id": "1c3687c8",
   "metadata": {},
   "source": [
    "- DQN\n",
    "    - Experience Replay\n",
    "    - Target Network"
   ]
  },
  {
   "cell_type": "code",
   "execution_count": 2,
   "id": "af454dd5",
   "metadata": {},
   "outputs": [
    {
     "name": "stderr",
     "output_type": "stream",
     "text": [
      "OpenCV: FFMPEG: tag 0x5634504d/'MP4V' is not supported with codec id 12 and format 'mp4 / MP4 (MPEG-4 Part 14)'\n",
      "OpenCV: FFMPEG: fallback to use tag 0x7634706d/'mp4v'\n",
      "OpenCV: FFMPEG: tag 0x5634504d/'MP4V' is not supported with codec id 12 and format 'mp4 / MP4 (MPEG-4 Part 14)'\n",
      "OpenCV: FFMPEG: fallback to use tag 0x7634706d/'mp4v'\n",
      "OpenCV: FFMPEG: tag 0x5634504d/'MP4V' is not supported with codec id 12 and format 'mp4 / MP4 (MPEG-4 Part 14)'\n",
      "OpenCV: FFMPEG: fallback to use tag 0x7634706d/'mp4v'\n"
     ]
    },
    {
     "name": "stdout",
     "output_type": "stream",
     "text": [
      "env.reset():  (array([-0.03229922,  0.0436798 ,  0.01346617, -0.00577445], dtype=float32), {})\n",
      "state:  [-0.00552168 -0.02747698  0.04215047 -0.00999476]\n",
      "action_space:  Discrete(2)\n",
      "\n",
      "Moviepy - Building video temp-{start}.mp4.\n",
      "Moviepy - Writing video temp-{start}.mp4\n",
      "\n"
     ]
    },
    {
     "name": "stderr",
     "output_type": "stream",
     "text": [
      "                                                   "
     ]
    },
    {
     "name": "stdout",
     "output_type": "stream",
     "text": [
      "Moviepy - Done !\n",
      "Moviepy - video ready temp-{start}.mp4\n"
     ]
    },
    {
     "name": "stderr",
     "output_type": "stream",
     "text": [
      "\r"
     ]
    },
    {
     "data": {
      "text/html": [
       "<video controls  >\n",
       " <source src=\"data:video/mp4;base64,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\" type=\"video/mp4\">\n",
       " Your browser does not support the video tag.\n",
       " </video>"
      ],
      "text/plain": [
       "<IPython.core.display.Video object>"
      ]
     },
     "metadata": {},
     "output_type": "display_data"
    }
   ],
   "source": [
    "# @title Chap 8.1 OpenAI Gym\n",
    "import gymnasium as gym\n",
    "import renderlab as rl\n",
    "import numpy as np\n",
    "\n",
    "env = gym.make(\"CartPole-v1\", render_mode = \"rgb_array\")\n",
    "# env = gym.make(\"CartPole-v1\", render_mode = \"human\")\n",
    "env = rl.RenderFrame(env, \"./temp_output\")\n",
    "\n",
    "state = env.reset()[0]\n",
    "done = False\n",
    "\n",
    "state = env.reset()[0]\n",
    "print(\"env.reset(): \", env.reset())\n",
    "print(\"state: \", state)\n",
    "action_space = env.action_space\n",
    "print(\"action_space: \", action_space)\n",
    "print(\"\")\n",
    "\n",
    "done = False\n",
    "while not done:\n",
    "    env.render()\n",
    "    action = np.random.choice([0, 1])\n",
    "    next_state, reward, terminated, truncated, info = env.step(action)\n",
    "    # print('action:', action)\n",
    "    # print('state:', state)\n",
    "    # print('next_state:', next_state)\n",
    "    # print('reward:', reward)\n",
    "    # print('terminated:', terminated)\n",
    "    # print('truncated:', truncated)\n",
    "    # print('info:', info)\n",
    "    state = next_state\n",
    "    if terminated or truncated:\n",
    "        break\n",
    "\n",
    "env.play()"
   ]
  },
  {
   "cell_type": "code",
   "execution_count": null,
   "id": "71c5257f",
   "metadata": {},
   "outputs": [],
   "source": [
    "# @title Chap 8.2.1 Experience Replay\n",
    "from collections import deque\n",
    "import random\n",
    "import numpy as np\n",
    "\n",
    "class ReplayBuffer:\n",
    "    def __init__(self, buffer_size, batch_size):\n",
    "        self.buffer = deque(maxlen=buffer_size)\n",
    "        self.batch_size = batch_size\n",
    "\n",
    "    def add(self, state, action, reward, next_state, done):\n",
    "        data = (state, action, reward, next_state, done)\n",
    "        self.buffer.append(data)\n",
    "\n",
    "    def __len__(self):\n",
    "        return len(self.buffer)\n",
    "\n",
    "    def get_batch(self):\n",
    "        data = random.sample(self.buffer, self.batch_size)\n",
    "\n",
    "        state = np.stack([x[0] for x in data])\n",
    "        # action = np.array([x[1] for x in data])\n",
    "        # reward = np.array([x[2] for x in data])\n",
    "        action = np.stack([x[1] for x in data])\n",
    "        reward = np.stack([x[2] for x in data])\n",
    "        next_state = np.stack([x[3] for x in data])\n",
    "        done = np.stack([x[4] for x in data])\n",
    "        return state, action, reward, next_state, done\n",
    "\n",
    "env = gym.make('CartPole-v0', render_mode='rgb_array')\n",
    "env = rl.RenderFrame(env, \"./temp_output\")\n",
    "replay_buffer = ReplayBuffer(buffer_size=10000, batch_size=32)\n",
    "\n",
    "for episode in range(10):\n",
    "    state = env.reset()[0]\n",
    "    done = False\n",
    "    while not done:\n",
    "        action = 0\n",
    "        next_state, reward, terminated, truncated, info = env.step(action)\n",
    "        done = terminated | truncated\n",
    "        replay_buffer.add(state, action, reward, next_state, done)\n",
    "        state = next_state\n",
    "\n",
    "state, action, reward, next_state, done = replay_buffer.get_batch()\n",
    "# print(state.shape)       # (32, 4)\n",
    "# print(action.shape)      # (32,)\n",
    "# print(reward.shape)      # (32,)\n",
    "# print(next_state.shape)  # (32, 4)\n",
    "# print(done.shape)        # (32,)\n",
    "# env.play()"
   ]
  },
  {
   "cell_type": "code",
   "execution_count": 5,
   "id": "1d4fa391",
   "metadata": {},
   "outputs": [
    {
     "name": "stdout",
     "output_type": "stream",
     "text": [
      "(32, 4)\n",
      "(32,)\n",
      "(32,)\n",
      "(32, 4)\n",
      "(32,)\n",
      "Moviepy - Building video temp-{start}.mp4.\n",
      "Moviepy - Writing video temp-{start}.mp4\n",
      "\n"
     ]
    },
    {
     "name": "stderr",
     "output_type": "stream",
     "text": [
      "                                                   "
     ]
    },
    {
     "name": "stdout",
     "output_type": "stream",
     "text": [
      "Moviepy - Done !\n",
      "Moviepy - video ready temp-{start}.mp4\n"
     ]
    },
    {
     "name": "stderr",
     "output_type": "stream",
     "text": [
      "\r"
     ]
    },
    {
     "data": {
      "text/html": [
       "<video controls  >\n",
       " <source src=\"data:video/mp4;base64,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\" type=\"video/mp4\">\n",
       " Your browser does not support the video tag.\n",
       " </video>"
      ],
      "text/plain": [
       "<IPython.core.display.Video object>"
      ]
     },
     "metadata": {},
     "output_type": "display_data"
    }
   ],
   "source": [
    "print(state.shape)       # (32, 4)\n",
    "print(action.shape)      # (32,)\n",
    "print(reward.shape)      # (32,)\n",
    "print(next_state.shape)  # (32, 4)\n",
    "print(done.shape)        # (32,)\n",
    "env.play()"
   ]
  },
  {
   "cell_type": "markdown",
   "id": "40b6370a",
   "metadata": {},
   "source": [
    "### Chap 8.2.3 Target Network"
   ]
  },
  {
   "cell_type": "code",
   "execution_count": 6,
   "id": "b59f5902",
   "metadata": {},
   "outputs": [
    {
     "name": "stdout",
     "output_type": "stream",
     "text": [
      "deque([0], maxlen=3)\n",
      "deque([0, 1], maxlen=3)\n",
      "deque([0, 1, 2], maxlen=3)\n",
      "deque([1, 2, 3], maxlen=3)\n",
      "deque([2, 3, 4], maxlen=3)\n",
      "deque([3, 4, 5], maxlen=3)\n",
      "deque([4, 5, 6], maxlen=3)\n",
      "deque([5, 6, 7], maxlen=3)\n",
      "deque([6, 7, 8], maxlen=3)\n",
      "deque([7, 8, 9], maxlen=3)\n"
     ]
    }
   ],
   "source": [
    "# @title Chap 8.2.3 Target Network - 1\n",
    "# Test code for deque\n",
    "from collections import deque\n",
    "\n",
    "dq = deque(maxlen = 3)\n",
    "for i in range(10):\n",
    "    dq.append(i)\n",
    "    print(dq)"
   ]
  },
  {
   "cell_type": "code",
   "execution_count": 7,
   "id": "5d4ee48e",
   "metadata": {},
   "outputs": [],
   "source": [
    "# @title Chap 8.2.3 Target Network - 2\n",
    "import copy\n",
    "\n",
    "import torch\n",
    "import torch.nn as nn\n",
    "import torch.nn.functional as F\n",
    "import torch.optim as optim\n",
    "\n",
    "from collections import deque\n",
    "import random\n",
    "import numpy as np\n",
    "\n",
    "class ReplayBuffer:\n",
    "    def __init__(self, buffer_size, batch_size):\n",
    "        self.buffer = deque(maxlen=buffer_size)\n",
    "        self.batch_size = batch_size\n",
    "\n",
    "    def add(self, state, action, reward, next_state, done):\n",
    "        data = (state, action, reward, next_state, done)\n",
    "        self.buffer.append(data)\n",
    "\n",
    "    def __len__(self):\n",
    "        return len(self.buffer)\n",
    "\n",
    "    def get_batch(self):\n",
    "        data = random.sample(self.buffer, self.batch_size)\n",
    "\n",
    "        state = torch.tensor(np.stack([x[0] for x in data]))\n",
    "        action = torch.tensor(np.array([x[1] for x in data]).astype(np.long))\n",
    "        reward = torch.tensor(np.array([x[2] for x in data]).astype(np.float32))\n",
    "        next_state = torch.tensor(np.stack([x[3] for x in data]))\n",
    "        done = torch.tensor(np.array([x[4] for x in data]).astype(np.int32))\n",
    "        return state, action, reward, next_state, done\n",
    "\n",
    "class QNet(nn.Module):\n",
    "    def __init__(self, action_size):\n",
    "        super().__init__()\n",
    "        self.l1 = nn.Linear(4, 128)\n",
    "        self.l2 = nn.Linear(128, 128)\n",
    "        self.l3 = nn.Linear(128, action_size)\n",
    "\n",
    "    def forward(self, x):\n",
    "        x = F.relu(self.l1(x))\n",
    "        x = F.relu(self.l2(x))\n",
    "        x = self.l3(x)\n",
    "        return x\n",
    "\n",
    "\n",
    "class DQNAgent:\n",
    "    def __init__(self):\n",
    "        self.gamma = 0.98\n",
    "        self.lr = 0.0005\n",
    "        self.epsilon = 0.1\n",
    "        self.buffer_size = 10000\n",
    "        self.batch_size = 32\n",
    "        self.action_size = 2\n",
    "\n",
    "        self.replay_buffer = ReplayBuffer(self.buffer_size, self.batch_size)\n",
    "        self.qnet = QNet(self.action_size)\n",
    "        self.qnet_target = QNet(self.action_size)\n",
    "\n",
    "        # only self.qnet\n",
    "        self.optimizer = optim.Adam(self.qnet.parameters(), lr=self.lr)\n",
    "\n",
    "    def get_action(self, state):\n",
    "        if np.random.rand() < self.epsilon:\n",
    "            return np.random.choice(self.action_size)\n",
    "        else:\n",
    "            state = torch.tensor(state[np.newaxis, :])\n",
    "            qs = self.qnet(state)\n",
    "            return qs.argmax().item()\n",
    "\n",
    "    def update(self, state, action, reward, next_state, done):\n",
    "        self.replay_buffer.add(state, action, reward, next_state, done)\n",
    "        if len(self.replay_buffer) < self.batch_size:\n",
    "            return\n",
    "\n",
    "        state, action, reward, next_state, done = self.replay_buffer.get_batch()\n",
    "\n",
    "        qs = self.qnet(state) # np.array (32, 4)\n",
    "        q = qs[np.arange(len(action)), action] # np.array (32)\n",
    "\n",
    "        next_qs = self.qnet_target(next_state)\n",
    "        next_q = next_qs.max(1)[0] # 1-axis max value -> (value, index)\n",
    "\n",
    "        next_q.detach()\n",
    "        # update target value wit qnet_target\n",
    "        target = reward + (1 - done) * self.gamma * next_q\n",
    "\n",
    "        loss_fn = nn.MSELoss()\n",
    "        loss = loss_fn(q, target)\n",
    "\n",
    "        self.optimizer.zero_grad()\n",
    "        loss.backward()\n",
    "        self.optimizer.step()\n",
    "\n",
    "    def sync_qnet(self):\n",
    "        self.qnet_target.load_state_dict(self.qnet.state_dict())\n"
   ]
  },
  {
   "cell_type": "code",
   "execution_count": 8,
   "id": "6e31219e",
   "metadata": {},
   "outputs": [
    {
     "name": "stdout",
     "output_type": "stream",
     "text": [
      "Debug\n",
      "qs :  tensor([[-0.0861, -0.0207, -0.1101,  0.0348]], grad_fn=<AddmmBackward0>)\n",
      "qs.max(0) :  torch.return_types.max(\n",
      "values=tensor([-0.0861, -0.0207, -0.1101,  0.0348], grad_fn=<MaxBackward0>),\n",
      "indices=tensor([0, 0, 0, 0]))\n",
      "qs.max(1) :  torch.return_types.max(\n",
      "values=tensor([0.0348], grad_fn=<MaxBackward0>),\n",
      "indices=tensor([3]))\n"
     ]
    }
   ],
   "source": [
    "# @title Chap 8.2.3 Target Network - 3\n",
    "\n",
    "env = gym.make('CartPole-v0', render_mode='rgb_array')\n",
    "state = env.reset()[0]\n",
    "\n",
    "action = 0\n",
    "next_state, reward, terminated, truncated, info = env.step(action)\n",
    "qnet = QNet(4)\n",
    "\n",
    "state = torch.tensor(state[np.newaxis, :])\n",
    "qs = qnet(state) # np.array (32, 2)\n",
    "print(\"Debug\")\n",
    "print(\"qs : \", qs)\n",
    "print(\"qs.max(0) : \", qs.max(0))\n",
    "print(\"qs.max(1) : \", qs.max(1)) # (value, index)\n",
    "# print(qs)\n",
    "# q = qs[np.arange(len(action)), action] # np.array (32, 2)"
   ]
  },
  {
   "cell_type": "code",
   "execution_count": null,
   "id": "6314e63e",
   "metadata": {},
   "outputs": [],
   "source": [
    "# @title Chap 8.2.3 Target Network - 4\n",
    "\n",
    "import matplotlib.pyplot as plt\n",
    "\n",
    "episodes = 300\n",
    "sync_interval = 20\n",
    "env = gym.make('CartPole-v1', render_mode = \"rgb_array\")\n",
    "env = rl.RenderFrame(env, \"./temp_output\")\n",
    "agent = DQNAgent()\n",
    "reward_history = []\n",
    "\n",
    "for episode in range(episodes):\n",
    "    state = env.reset()[0]\n",
    "    done = False\n",
    "    total_reward = 0\n",
    "\n",
    "    while not done:\n",
    "        action = agent.get_action(state)\n",
    "        next_state, reward, terminated, truncated, info = env.step(action)\n",
    "        done = terminated or truncated\n",
    "\n",
    "        agent.update(state, action, reward, next_state, done)\n",
    "        state = next_state\n",
    "        total_reward += reward\n",
    "\n",
    "    if episode % sync_interval == 0:\n",
    "        agent.sync_qnet()\n",
    "\n",
    "    reward_history.append(total_reward)\n",
    "    if episode % 10 == 0:\n",
    "        print(\"episode :{}, total reward : {}\".format(episode, total_reward))\n",
    "\n"
   ]
  },
  {
   "cell_type": "code",
   "execution_count": 11,
   "id": "aaa3749f",
   "metadata": {},
   "outputs": [
    {
     "data": {
      "image/png": "[encoded data removed]",
      "text/plain": [
       "<Figure size 640x480 with 1 Axes>"
      ]
     },
     "metadata": {},
     "output_type": "display_data"
    },
    {
     "name": "stdout",
     "output_type": "stream",
     "text": [
      "Moviepy - Building video temp-{start}.mp4.\n",
      "Moviepy - Writing video temp-{start}.mp4\n",
      "\n"
     ]
    },
    {
     "name": "stderr",
     "output_type": "stream",
     "text": [
      "                                                    "
     ]
    },
    {
     "name": "stdout",
     "output_type": "stream",
     "text": [
      "Moviepy - Done !\n",
      "Moviepy - video ready temp-{start}.mp4\n"
     ]
    },
    {
     "name": "stderr",
     "output_type": "stream",
     "text": [
      "\r"
     ]
    },
    {
     "data": {
      "text/html": [
       "<video controls  >\n",
       " <source src=\"data:video/mp4;base64,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\" type=\"video/mp4\">\n",
       " Your browser does not support the video tag.\n",
       " </video>"
      ],
      "text/plain": [
       "<IPython.core.display.Video object>"
      ]
     },
     "metadata": {},
     "output_type": "display_data"
    }
   ],
   "source": [
    "plt.xlabel('episode')\n",
    "plt.ylabel('loss')\n",
    "plt.plot(range(len(reward_history)), reward_history)\n",
    "plt.show()\n",
    "\n",
    "env.play()"
   ]
  },
  {
   "cell_type": "code",
   "execution_count": 12,
   "id": "d7f9a84b",
   "metadata": {},
   "outputs": [
    {
     "name": "stderr",
     "output_type": "stream",
     "text": [
      "OpenCV: FFMPEG: tag 0x5634504d/'MP4V' is not supported with codec id 12 and format 'mp4 / MP4 (MPEG-4 Part 14)'\n",
      "OpenCV: FFMPEG: fallback to use tag 0x7634706d/'mp4v'\n"
     ]
    },
    {
     "name": "stdout",
     "output_type": "stream",
     "text": [
      "total reward :  145.0\n",
      "Moviepy - Building video temp-{start}.mp4.\n",
      "Moviepy - Writing video temp-{start}.mp4\n",
      "\n"
     ]
    },
    {
     "name": "stderr",
     "output_type": "stream",
     "text": [
      "                                                    "
     ]
    },
    {
     "name": "stdout",
     "output_type": "stream",
     "text": [
      "Moviepy - Done !\n",
      "Moviepy - video ready temp-{start}.mp4\n"
     ]
    },
    {
     "name": "stderr",
     "output_type": "stream",
     "text": [
      "\r"
     ]
    },
    {
     "data": {
      "text/html": [
       "<video controls  >\n",
       " <source src=\"data:video/mp4;base64,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\" type=\"video/mp4\">\n",
       " Your browser does not support the video tag.\n",
       " </video>"
      ],
      "text/plain": [
       "<IPython.core.display.Video object>"
      ]
     },
     "metadata": {},
     "output_type": "display_data"
    }
   ],
   "source": [
    "# @title Chap 8.2.3 Target Network - 5 (Inference)\n",
    "agent.epsilon = 0\n",
    "state = env.reset()[0]\n",
    "done = False\n",
    "total_reward = 0\n",
    "\n",
    "while not done:\n",
    "    action = agent.get_action(state)\n",
    "    next_state, reward, terminated, truncated, info = env.step(action)\n",
    "    done = terminated or truncated\n",
    "    state = next_state\n",
    "    total_reward += reward\n",
    "\n",
    "print(\"total reward : \", total_reward)\n",
    "env.play()"
   ]
  },
  {
   "cell_type": "markdown",
   "id": "25878201",
   "metadata": {},
   "source": [
    "------\n",
    "\n",
    "#### Chap 8.4.1 Double DQN\n",
    "\n",
    "DQN :\n",
    "- $R_t + \\gamma \\underset{a}{\\operatorname{max}}Q_{θ'}(S_{t+1}, a)$\n",
    "\n",
    "Double DQN :\n",
    "- Address the issue of overfitting\n",
    "- $R_t + \\gamma Q_{θ'}\\bigg(S_{t+1}, \\underset{a}{\\operatorname{argmax}} Q_{θ}(S_{t+1}, a)\\bigg)$"
   ]
  },
  {
   "cell_type": "markdown",
   "id": "cd4d0b55",
   "metadata": {},
   "source": [
    "#### 8.4.2 Prioritized Experience Replay (PER)\n",
    "\n",
    "- $\\delta_{t} = |R_t + \\gamma \\underset{a}{\\operatorname{max}}Q_{θ'}(S_{t+1}, a) - Q_{θ}(S_t, A_t)|$\n",
    "- Probability of sampling data from reply Buffer(Experience Replay) :\n",
    "    - $p_i = \\frac{\\delta_{i}}{\\sum_{k=0}^{N}\\delta_{k}}$"
   ]
  },
  {
   "cell_type": "markdown",
   "id": "3009a713",
   "metadata": {},
   "source": [
    "#### 8.4.3 Dueling DQN\n",
    "\n",
    "Advantage function\n",
    "- $A_{\\pi}(s,a) = Q_{\\pi}(s,a) - V_{\\pi}(s)$  \n",
    "- $Q_{\\pi}(s,a) = A_{\\pi}(s,a) + V_{\\pi}(s)$  \n",
    "\n",
    "<figure>\n",
    "<center><img src = \"https://www.fromkk.com/images/ddqn_duel_dqn.png\"></center>\n",
    "\n",
    "<figcaption align=\"center\"> DQN vs. Dueling DQN</figcaption>\n",
    "</figure>\n"
   ]
  },
  {
   "cell_type": "markdown",
   "id": "92ad2583",
   "metadata": {},
   "source": []
  }
 ],
 "metadata": {
  "kernelspec": {
   "display_name": "rl_learning",
   "language": "python",
   "name": "python3"
  },
  "language_info": {
   "codemirror_mode": {
    "name": "ipython",
    "version": 3
   },
   "file_extension": ".py",
   "mimetype": "text/x-python",
   "name": "python",
   "nbconvert_exporter": "python",
   "pygments_lexer": "ipython3",
   "version": "3.10.18"
  }
 },
 "nbformat": 4,
 "nbformat_minor": 5
}
